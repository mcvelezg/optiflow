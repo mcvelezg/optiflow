{
 "cells": [
  {
   "cell_type": "code",
   "execution_count": null,
   "id": "e26ddadd",
   "metadata": {},
   "outputs": [],
   "source": [
    "datos = [line.split() for line in open('requerimientos.txt', 'r')]\n",
    "\n",
    "v={}\n",
    "for linea in datos:\n",
    "    i, j, k = linea[], linea[1], linea[2]\n",
    "    v[i][j][k] = v.get()\n",
    "\n",
    "\n",
    "\n",
    "#A[t+L] = A.get(t+L, 0) + q # Si clave no existe la agrega con valor q; y si existe incrementa en q"
   ]
  },
  {
   "cell_type": "code",
   "execution_count": 1,
   "id": "1588b144",
   "metadata": {},
   "outputs": [
    {
     "ename": "TypeError",
     "evalue": "unsupported operand type(s) for |: 'dict' and 'dict'",
     "output_type": "error",
     "traceback": [
      "\u001b[1;31m---------------------------------------------------------------------------\u001b[0m",
      "\u001b[1;31mTypeError\u001b[0m                                 Traceback (most recent call last)",
      "Cell \u001b[1;32mIn [1], line 3\u001b[0m\n\u001b[0;32m      1\u001b[0m a\u001b[38;5;241m=\u001b[39m{\u001b[38;5;241m1\u001b[39m:\u001b[38;5;241m10\u001b[39m, \u001b[38;5;241m2\u001b[39m:\u001b[38;5;241m20\u001b[39m}\n\u001b[0;32m      2\u001b[0m b\u001b[38;5;241m=\u001b[39m{\u001b[38;5;241m3\u001b[39m:\u001b[38;5;241m30\u001b[39m}\n\u001b[1;32m----> 3\u001b[0m c\u001b[38;5;241m=\u001b[39m\u001b[43ma\u001b[49m\u001b[38;5;241;43m|\u001b[39;49m\u001b[43mb\u001b[49m\n",
      "\u001b[1;31mTypeError\u001b[0m: unsupported operand type(s) for |: 'dict' and 'dict'"
     ]
    }
   ],
   "source": [
    "a={1:10, 2:20}\n",
    "b={3:30}\n",
    "c=a|b"
   ]
  }
 ],
 "metadata": {
  "kernelspec": {
   "display_name": "Python 3 (ipykernel)",
   "language": "python",
   "name": "python3"
  },
  "language_info": {
   "codemirror_mode": {
    "name": "ipython",
    "version": 3
   },
   "file_extension": ".py",
   "mimetype": "text/x-python",
   "name": "python",
   "nbconvert_exporter": "python",
   "pygments_lexer": "ipython3",
   "version": "3.8.15"
  }
 },
 "nbformat": 4,
 "nbformat_minor": 5
}
