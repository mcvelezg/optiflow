{
 "cells": [
  {
   "cell_type": "code",
   "execution_count": 2,
   "id": "0862fb20",
   "metadata": {
    "scrolled": true,
    "slideshow": {
     "slide_type": "slide"
    }
   },
   "outputs": [],
   "source": [
    "from pulp import *\n",
    "\n",
    "def nombre_var(nombre, *indices):\n",
    "    return nombre+'_'+'_'.join(str(x) for x in indices)  \n",
    "\n",
    "SW = LpProblem('MinCostoTotal', LpMinimize)"
   ]
  },
  {
   "cell_type": "code",
   "execution_count": 7,
   "id": "28e12afc",
   "metadata": {
    "slideshow": {
     "slide_type": "slide"
    }
   },
   "outputs": [],
   "source": [
    "# 1. Cargar datos\n",
    "datos = [line.split() for line in open('requerimientos.txt', 'r')]\n",
    "\n",
    "# 2. Definir conjuntos\n",
    "S  = sorted(list(set([i[0] for i in datos]))) # Shippers\n",
    "T  = sorted(list(set([i[1] for i in datos]+[i[2] for i in datos]))) # Terminals"
   ]
  },
  {
   "cell_type": "code",
   "execution_count": 4,
   "id": "caebc1bd",
   "metadata": {
    "slideshow": {
     "slide_type": "skip"
    }
   },
   "outputs": [],
   "source": [
    "Shp_from_j, Shp_to_j = {}, {} # Shippers pumping {from terminal j}, {to terminal j}\n",
    "for line in datos:\n",
    "    if line[1] in Shp_from_j:\n",
    "        Shp_from_j[line[1]].add(line[0])\n",
    "    else:\n",
    "        Shp_from_j[line[1]] = set()\n",
    "        Shp_from_j[line[1]].add(line[0])\n",
    "    \n",
    "    if line[2] in Shp_to_j:\n",
    "        Shp_to_j[line[2]].add(line[0])\n",
    "    else:\n",
    "        Shp_to_j[line[2]] = set()\n",
    "        Shp_to_j[line[2]].add(line[0])\n",
    "\n",
    "Trmnls_i_from_j,Trmnls_i_to_j = {}, {} # Terminals getting (pumping) oil of shipper i coming from (towards) j\n",
    "for line in datos:\n",
    "    \n",
    "    if line[0] in Trmnls_i_from_j:\n",
    "        if line[1] in Trmnls_i_from_j[line[0]]:\n",
    "            Trmnls_i_from_j[line[0]][line[1]].add(line[2])\n",
    "        else:\n",
    "            Trmnls_i_from_j[line[0]][line[1]] = set()\n",
    "            Trmnls_i_from_j[line[0]][line[1]].add(line[2])\n",
    "    else:\n",
    "        Trmnls_i_from_j[line[0]] = {line[1]:set()}\n",
    "        Trmnls_i_from_j[line[0]][line[1]].add(line[2])\n",
    "\n",
    "    if line[0] in Trmnls_i_to_j:\n",
    "        if line[2] in Trmnls_i_to_j[line[0]]:\n",
    "            Trmnls_i_to_j[line[0]][line[2]].add(line[1])\n",
    "        else:\n",
    "            Trmnls_i_to_j[line[0]][line[2]] = set()\n",
    "            Trmnls_i_to_j[line[0]][line[2]].add(line[1])\n",
    "    else:\n",
    "        Trmnls_i_to_j[line[0]] = {line[2]:set()}\n",
    "        Trmnls_i_to_j[line[0]][line[2]].add(line[1])"
   ]
  },
  {
   "cell_type": "code",
   "execution_count": 8,
   "id": "0c69d345",
   "metadata": {
    "slideshow": {
     "slide_type": "slide"
    }
   },
   "outputs": [],
   "source": [
    "# 3. Parámetros\n",
    "c, v = {i:{} for i in S}, {i:{} for i in S}\n",
    "for line in datos:\n",
    "    if line[1] in v[line[0]]:\n",
    "        v[line[0]][line[1]][line[2]] = float(line[3])\n",
    "        c[line[0]][line[1]][line[2]] = float(line[4])\n",
    "    else:\n",
    "        v[line[0]][line[1]] = {line[2]:float(line[3])}\n",
    "        c[line[0]][line[1]] = {line[2]:float(line[4])}"
   ]
  },
  {
   "cell_type": "code",
   "execution_count": 9,
   "id": "d3411d28",
   "metadata": {
    "slideshow": {
     "slide_type": "slide"
    }
   },
   "outputs": [
    {
     "name": "stderr",
     "output_type": "stream",
     "text": [
      "C:\\Users\\marvelez\\anaconda3\\lib\\site-packages\\pulp\\pulp.py:1705: UserWarning: Overwriting previously set objective.\n",
      "  warnings.warn(\"Overwriting previously set objective.\")\n"
     ]
    }
   ],
   "source": [
    "# 4. Variables\n",
    "x = {i:{} for i in S}\n",
    "for line in datos:\n",
    "    if line[1] in x[line[0]]:\n",
    "        x[line[0]][line[1]][line[2]] = LpVariable(nombre_var('x',line[0],line[1],line[2]), 0, None, cat=LpContinuous)\n",
    "    else:\n",
    "        x[line[0]][line[1]] = {line[2]:LpVariable(nombre_var('x',line[0],line[1],line[2]), 0, None, cat=LpContinuous)}\n",
    "\n",
    "# 5. Objetivo\n",
    "SW += lpSum(c[i][j][k]*x[i][j][k] for i in x for j in x[i] for k in x[i][j])"
   ]
  },
  {
   "cell_type": "code",
   "execution_count": 10,
   "id": "4eb3ffdf",
   "metadata": {
    "slideshow": {
     "slide_type": "slide"
    }
   },
   "outputs": [],
   "source": [
    "# 6. Restricciones\n",
    "\n",
    "for j in T:\n",
    "    SW += lpSum(v[i][j][k] for i in Shp_from_j[j] for k in Trmnls_i_from_j[i][j]) \\\n",
    "        - lpSum(v[i][k][j] for i in Shp_to_j[j]   for k in Trmnls_i_to_j[i][j]) \\\n",
    "       == lpSum(x[i][j][k] for i in Shp_from_j[j] for k in Trmnls_i_from_j[i][j]) \\\n",
    "        - lpSum(x[i][k][j] for i in Shp_to_j[j]   for k in Trmnls_i_to_j[i][j])\n",
    "\n",
    "for i in x:\n",
    "    for j in x[i]:\n",
    "        for k in x[i][j]:\n",
    "            SW +=  x[i][j][k] <= v[i][j][k]"
   ]
  },
  {
   "cell_type": "code",
   "execution_count": 11,
   "id": "4d69ce03",
   "metadata": {
    "slideshow": {
     "slide_type": "slide"
    }
   },
   "outputs": [
    {
     "name": "stdout",
     "output_type": "stream",
     "text": [
      "CPU times: total: 15.6 ms\n",
      "Wall time: 168 ms\n"
     ]
    },
    {
     "data": {
      "text/plain": [
       "1"
      ]
     },
     "execution_count": 11,
     "metadata": {},
     "output_type": "execute_result"
    }
   ],
   "source": [
    "%%time\n",
    "# 7. Resolver\n",
    "SW.solve()"
   ]
  },
  {
   "cell_type": "code",
   "execution_count": 12,
   "id": "2f6297a9",
   "metadata": {
    "slideshow": {
     "slide_type": "slide"
    }
   },
   "outputs": [],
   "source": [
    "# 8. Imprimir resultado\n",
    "\n",
    "separador = 45*'='+'\\n'\n",
    "resultado = open('resultado.txt', 'w')\n",
    "resultado.write(separador)\n",
    "resultado.write(\"{:<10} {:<10} {:<12} {:^10} \\n\".format('Shipper', 'Origin', 'Destination', 'Quantity'))\n",
    "resultado.write(separador)\n",
    "for i in x:\n",
    "    for j in x[i]:\n",
    "        for k in x[i][j]:\n",
    "            if x[i][j][k].value() > 0:\n",
    "                resultado.write(\"{:<10} {:<10} {:<12} {:^10} \\n\".format(i, j, k, x[i][j][k].value()))\n",
    "resultado.write(separador)\n",
    "resultado.close()"
   ]
  }
 ],
 "metadata": {
  "celltoolbar": "Slideshow",
  "kernelspec": {
   "display_name": "Python 3 (ipykernel)",
   "language": "python",
   "name": "python3"
  },
  "language_info": {
   "codemirror_mode": {
    "name": "ipython",
    "version": 3
   },
   "file_extension": ".py",
   "mimetype": "text/x-python",
   "name": "python",
   "nbconvert_exporter": "python",
   "pygments_lexer": "ipython3",
   "version": "3.8.15"
  }
 },
 "nbformat": 4,
 "nbformat_minor": 5
}
